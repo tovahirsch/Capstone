{
 "cells": [
  {
   "cell_type": "code",
   "execution_count": 143,
   "metadata": {},
   "outputs": [],
   "source": [
    "import PIL as pillow\n",
    "from PIL import Image\n",
    "import numpy as np\n",
    "import matplotlib.pyplot as plt\n",
    "from sklearn import svm\n",
    "import os\n",
    "import pandas as pd\n",
    "import itertools as it\n",
    "#np.random.seed(123)  # for reproducibility\n",
    "\n",
    "from keras.models import Sequential\n",
    "from keras.layers import Dense, Dropout, Activation, Flatten\n",
    "from keras.layers import Convolution2D, MaxPooling2D\n",
    "from keras.utils import np_utils\n",
    "from keras.datasets import mnist\n",
    "\n"
   ]
  },
  {
   "cell_type": "code",
   "execution_count": 10,
   "metadata": {},
   "outputs": [
    {
     "data": {
      "text/plain": [
       "array([46, 46, 46, ..., 27, 27, 27], dtype=uint8)"
      ]
     },
     "execution_count": 10,
     "metadata": {},
     "output_type": "execute_result"
    }
   ],
   "source": [
    "im=Image.open(\"Biwa Ko.jpg\").convert(\"L\")\n",
    "imarr=np.array(im)\n",
    "flatim=imarr.flatten('F')\n",
    "flatim"
   ]
  },
  {
   "cell_type": "code",
   "execution_count": 31,
   "metadata": {},
   "outputs": [],
   "source": [
    "#!! pip install opencv-python"
   ]
  },
  {
   "cell_type": "code",
   "execution_count": 208,
   "metadata": {},
   "outputs": [],
   "source": [
    "#from keras.datasets import mnist\n",
    "\n",
    "#x = mnist.load_data()"
   ]
  },
  {
   "cell_type": "code",
   "execution_count": 209,
   "metadata": {
    "scrolled": true
   },
   "outputs": [],
   "source": [
    "#x#[1][0][1][1]\n",
    "# this is the keras dataset"
   ]
  },
  {
   "cell_type": "code",
   "execution_count": 4,
   "metadata": {},
   "outputs": [],
   "source": [
    "import cv2"
   ]
  },
  {
   "cell_type": "code",
   "execution_count": 30,
   "metadata": {},
   "outputs": [
    {
     "data": {
      "text/plain": [
       "(400, 640, 3)"
      ]
     },
     "execution_count": 30,
     "metadata": {},
     "output_type": "execute_result"
    }
   ],
   "source": [
    "img=cv2.imread(\"Biwa Ko.jpg\")\n",
    "img.shape"
   ]
  },
  {
   "cell_type": "code",
   "execution_count": 156,
   "metadata": {
    "scrolled": true
   },
   "outputs": [
    {
     "data": {
      "text/plain": [
       "array([[[0.20784314, 0.21176471, 0.10980392],\n",
       "        [0.20784314, 0.21176471, 0.10980392],\n",
       "        [0.20784314, 0.21176471, 0.10980392],\n",
       "        ...,\n",
       "        [0.18039216, 0.17647059, 0.07843137],\n",
       "        [0.18039216, 0.17647059, 0.07843137],\n",
       "        [0.18039216, 0.17647059, 0.07843137]],\n",
       "\n",
       "       [[0.20784314, 0.21176471, 0.10980392],\n",
       "        [0.20784314, 0.21176471, 0.10980392],\n",
       "        [0.20784314, 0.21176471, 0.10980392],\n",
       "        ...,\n",
       "        [0.18039216, 0.17647059, 0.07843137],\n",
       "        [0.18039216, 0.17647059, 0.07843137],\n",
       "        [0.18039216, 0.17647059, 0.07843137]],\n",
       "\n",
       "       [[0.20784314, 0.21176471, 0.10980392],\n",
       "        [0.20784314, 0.21176471, 0.10980392],\n",
       "        [0.20784314, 0.21176471, 0.10980392],\n",
       "        ...,\n",
       "        [0.18039216, 0.17647059, 0.07843137],\n",
       "        [0.18039216, 0.17647059, 0.07843137],\n",
       "        [0.18039216, 0.17647059, 0.07843137]],\n",
       "\n",
       "       ...,\n",
       "\n",
       "       [[0.17647059, 0.17254902, 0.07058824],\n",
       "        [0.17647059, 0.17254902, 0.07058824],\n",
       "        [0.17647059, 0.17254902, 0.07058824],\n",
       "        ...,\n",
       "        [0.06666667, 0.09803922, 0.08235294],\n",
       "        [0.06666667, 0.09803922, 0.08235294],\n",
       "        [0.09019608, 0.10980392, 0.10980392]],\n",
       "\n",
       "       [[0.17647059, 0.17254902, 0.07058824],\n",
       "        [0.17647059, 0.17254902, 0.07058824],\n",
       "        [0.17647059, 0.17254902, 0.07058824],\n",
       "        ...,\n",
       "        [0.09019608, 0.10980392, 0.10980392],\n",
       "        [0.09019608, 0.10980392, 0.10980392],\n",
       "        [0.09019608, 0.10980392, 0.10980392]],\n",
       "\n",
       "       [[0.17647059, 0.17254902, 0.07058824],\n",
       "        [0.17647059, 0.17254902, 0.07058824],\n",
       "        [0.17647059, 0.17254902, 0.07058824],\n",
       "        ...,\n",
       "        [0.09019608, 0.10980392, 0.10980392],\n",
       "        [0.09019608, 0.10980392, 0.10980392],\n",
       "        [0.09019608, 0.10980392, 0.10980392]]])"
      ]
     },
     "execution_count": 156,
     "metadata": {},
     "output_type": "execute_result"
    }
   ],
   "source": [
    "img=cv2.imread(\"Biwa Ko.jpg\")\n",
    "#img = img.reshape(img.shape[0], 400, 640, 3)\n",
    "img.reshape(1,400,640,3)\n",
    "img = img/255\n",
    "img"
   ]
  },
  {
   "cell_type": "code",
   "execution_count": 210,
   "metadata": {},
   "outputs": [
    {
     "data": {
      "text/plain": [
       "(400, 640, 3)"
      ]
     },
     "execution_count": 210,
     "metadata": {},
     "output_type": "execute_result"
    }
   ],
   "source": [
    "\n",
    "img.shape"
   ]
  },
  {
   "cell_type": "code",
   "execution_count": 129,
   "metadata": {
    "scrolled": true
   },
   "outputs": [],
   "source": [
    "# list_of_lakes = ['Biwa Ko.jpg', 'Black Lake.jpg']\n",
    "list_of_img = []\n",
    "list_of_names = []\n",
    "path = '/Users/tovahirsch/Desktop/Capstone/Pics/'\n",
    "for filename in os.listdir(path=path):\n",
    "    if '.jpg' in filename:\n",
    "        list_of_names.append(filename)\n",
    "#         img=cv2.imread(path + filename, 0)\n",
    "#         img = img/255\n",
    "#         list_of_img.append(img)\n",
    "#     break\n",
    "# pd.DataFrame(list_of_names).to_csv('image_checklist.csv')"
   ]
  },
  {
   "cell_type": "code",
   "execution_count": null,
   "metadata": {
    "collapsed": true
   },
   "outputs": [],
   "source": [
    "def get_dict_from_csv():\n",
    "    directory = os.listdir(path='/Users/tovahirsch/Desktop/Capstone/Pics_by_lat/')\n",
    "    directory = [x for x in directory if '.jpg' in x]\n",
    "    out = dict()\n",
    "    for label in directory:\n",
    "        out[label] = (df4.loc[df4['latitude']==label.replace('.jpg', ''), 'WQI']>44.00).astype(int)\n",
    "    return out"
   ]
  },
  {
   "cell_type": "code",
   "execution_count": null,
   "metadata": {
    "collapsed": true
   },
   "outputs": [],
   "source": [
    "def image_gen(batch_size, y_dict):\n",
    "    path = '/Users/tovahirsch/Desktop/Capstone/Pics_by_lat/'\n",
    "    directory = os.listdir(path=path)\n",
    "    Xout = []\n",
    "    yout = []\n",
    "    counter = 0\n",
    "    for filename in it.cycle(directory):\n",
    "        if '.jpg' in filename:\n",
    "            img=cv2.imread(path + filename)\n",
    "            img = img/255\n",
    "            img.reshape(1,400,640,3)\n",
    "            Xout.append(img)\n",
    "            yout.append(y_dict[filename])\n",
    "            counter += 1\n",
    "            if counter % batch_size == 0:\n",
    "                yield (np.array(Xout), np.array(yout))#np.random.randint(2, size=batch_size))\n",
    "                Xout = []\n",
    "                yout= []"
   ]
  },
  {
   "cell_type": "code",
   "execution_count": 196,
   "metadata": {},
   "outputs": [],
   "source": [
    "gen = image_gen(32, get_dict_from_csv())"
   ]
  },
  {
   "cell_type": "code",
   "execution_count": null,
   "metadata": {
    "collapsed": true
   },
   "outputs": [],
   "source": [
    "type(gen)"
   ]
  },
  {
   "cell_type": "code",
   "execution_count": 204,
   "metadata": {},
   "outputs": [
    {
     "data": {
      "text/plain": [
       "32"
      ]
     },
     "execution_count": 204,
     "metadata": {},
     "output_type": "execute_result"
    }
   ],
   "source": [
    "next(gen)[0]"
   ]
  },
  {
   "cell_type": "code",
   "execution_count": 148,
   "metadata": {},
   "outputs": [],
   "source": [
    "#set up model\n",
    "model = Sequential()\n",
    "\n",
    "model.add(Convolution2D(filters = 6, kernel_size = 3, activation='relu', input_shape=(400,640,3)))\n",
    "model.add(MaxPooling2D(pool_size=(2,2)))\n",
    "model.add(Convolution2D(16, kernel_size = 3, activation='relu'))\n",
    "model.add(MaxPooling2D(pool_size=(2,2)))\n",
    "model.add(Dropout(0.25))\n",
    "\n",
    "model.add(Flatten())\n",
    "model.add(Dense(128, activation='relu'))\n",
    "model.add(Dropout(0.5))\n",
    "model.add(Dense(1, activation='sigmoid'))"
   ]
  },
  {
   "cell_type": "code",
   "execution_count": 149,
   "metadata": {},
   "outputs": [
    {
     "name": "stdout",
     "output_type": "stream",
     "text": [
      "_________________________________________________________________\n",
      "Layer (type)                 Output Shape              Param #   \n",
      "=================================================================\n",
      "conv2d_44 (Conv2D)           (None, 398, 638, 6)       168       \n",
      "_________________________________________________________________\n",
      "max_pooling2d_39 (MaxPooling (None, 199, 319, 6)       0         \n",
      "_________________________________________________________________\n",
      "conv2d_45 (Conv2D)           (None, 197, 317, 16)      880       \n",
      "_________________________________________________________________\n",
      "max_pooling2d_40 (MaxPooling (None, 98, 158, 16)       0         \n",
      "_________________________________________________________________\n",
      "dropout_39 (Dropout)         (None, 98, 158, 16)       0         \n",
      "_________________________________________________________________\n",
      "flatten_22 (Flatten)         (None, 247744)            0         \n",
      "_________________________________________________________________\n",
      "dense_40 (Dense)             (None, 128)               31711360  \n",
      "_________________________________________________________________\n",
      "dropout_40 (Dropout)         (None, 128)               0         \n",
      "_________________________________________________________________\n",
      "dense_41 (Dense)             (None, 1)                 129       \n",
      "=================================================================\n",
      "Total params: 31,712,537\n",
      "Trainable params: 31,712,537\n",
      "Non-trainable params: 0\n",
      "_________________________________________________________________\n"
     ]
    }
   ],
   "source": [
    "model.summary()"
   ]
  },
  {
   "cell_type": "code",
   "execution_count": 151,
   "metadata": {
    "collapsed": true
   },
   "outputs": [],
   "source": [
    "# 6. Compile model\n",
    "model.compile(loss='binary_crossentropy',\n",
    "              optimizer='adam',\n",
    "              metrics=['accuracy'])"
   ]
  },
  {
   "cell_type": "code",
   "execution_count": 96,
   "metadata": {},
   "outputs": [
    {
     "data": {
      "text/plain": [
       "(400, 640, 3)"
      ]
     },
     "execution_count": 96,
     "metadata": {},
     "output_type": "execute_result"
    }
   ],
   "source": [
    "img.shape"
   ]
  },
  {
   "cell_type": "code",
   "execution_count": 99,
   "metadata": {},
   "outputs": [
    {
     "data": {
      "text/plain": [
       "(1, 400, 640, 3)"
      ]
     },
     "execution_count": 99,
     "metadata": {},
     "output_type": "execute_result"
    }
   ],
   "source": [
    "imgs = np.array([img])\n",
    "imgs.shape"
   ]
  },
  {
   "cell_type": "code",
   "execution_count": 177,
   "metadata": {},
   "outputs": [
    {
     "name": "stdout",
     "output_type": "stream",
     "text": [
      "Epoch 1/1\n",
      "21/21 [==============================] - 137s 7s/step - loss: 2.5136 - acc: 0.4390\n"
     ]
    },
    {
     "data": {
      "text/plain": [
       "<keras.callbacks.History at 0x1a5207f5f8>"
      ]
     },
     "execution_count": 177,
     "metadata": {},
     "output_type": "execute_result"
    }
   ],
   "source": [
    "#### 7. Fit model on training data\n",
    "# model.fit(imgs,np.array([[0]]), batch_size=32, epochs=10, verbose=1)\n",
    "model.fit_generator(image_gen(32), steps_per_epoch=1300//32)"
   ]
  },
  {
   "cell_type": "code",
   "execution_count": 207,
   "metadata": {},
   "outputs": [
    {
     "data": {
      "text/plain": [
       "array([[0.5201274]], dtype=float32)"
      ]
     },
     "execution_count": 207,
     "metadata": {},
     "output_type": "execute_result"
    }
   ],
   "source": [
    "model.predict(np.array([img]))"
   ]
  },
  {
   "cell_type": "code",
   "execution_count": 11,
   "metadata": {},
   "outputs": [
    {
     "ename": "SyntaxError",
     "evalue": "unexpected EOF while parsing (<ipython-input-11-248255bab3d7>, line 1)",
     "output_type": "error",
     "traceback": [
      "\u001b[0;36m  File \u001b[0;32m\"<ipython-input-11-248255bab3d7>\"\u001b[0;36m, line \u001b[0;32m1\u001b[0m\n\u001b[0;31m    for i in list_of_img:\u001b[0m\n\u001b[0m                         ^\u001b[0m\n\u001b[0;31mSyntaxError\u001b[0m\u001b[0;31m:\u001b[0m unexpected EOF while parsing\n"
     ]
    }
   ],
   "source": [
    "# for x, y in zip(list_of_img, list_of_y):\n",
    "#     model.fit(x, y, \n",
    "#           batch_size=32, epochs=10, verbose=1)"
   ]
  },
  {
   "cell_type": "code",
   "execution_count": null,
   "metadata": {
    "collapsed": true
   },
   "outputs": [],
   "source": []
  },
  {
   "cell_type": "code",
   "execution_count": null,
   "metadata": {
    "collapsed": true
   },
   "outputs": [],
   "source": [
    "'''cv2.normalize(img, img, 0, 255, cv2.NORM_MINMAX)\n",
    "\n",
    "    cv2.imshow('dst_rt', img)\n",
    "    cv2.waitKey(0)\n",
    "    cv2.destroyAllWindows()\n",
    "    li.append(img)'''"
   ]
  },
  {
   "cell_type": "code",
   "execution_count": null,
   "metadata": {
    "collapsed": true
   },
   "outputs": [],
   "source": [
    "#img = cv2.resize(img, (800, 800))\n",
    "cv2.normalize(img, img, 0, 255, cv2.NORM_MINMAX)\n",
    "img"
   ]
  },
  {
   "cell_type": "code",
   "execution_count": null,
   "metadata": {
    "collapsed": true
   },
   "outputs": [],
   "source": [
    "cv2.imshow('dst_rt', img)\n",
    "img"
   ]
  },
  {
   "cell_type": "code",
   "execution_count": null,
   "metadata": {
    "collapsed": true
   },
   "outputs": [],
   "source": [
    "cv2.waitKey(0)"
   ]
  },
  {
   "cell_type": "code",
   "execution_count": null,
   "metadata": {},
   "outputs": [],
   "source": [
    "cv2.destroyAllWindows()"
   ]
  },
  {
   "cell_type": "code",
   "execution_count": null,
   "metadata": {
    "collapsed": true
   },
   "outputs": [],
   "source": [
    "img"
   ]
  },
  {
   "cell_type": "code",
   "execution_count": 51,
   "metadata": {},
   "outputs": [
    {
     "data": {
      "text/plain": [
       "(400, 640)"
      ]
     },
     "execution_count": 51,
     "metadata": {},
     "output_type": "execute_result"
    }
   ],
   "source": [
    "img2=cv2.imread('Black Lake.jpg',0)\n",
    "img2.shape"
   ]
  },
  {
   "cell_type": "markdown",
   "metadata": {},
   "source": [
    "# How do I use this array and transform it so that it has x and y which can then be pushed into the format as exist in mnist.load_data()"
   ]
  },
  {
   "cell_type": "code",
   "execution_count": 35,
   "metadata": {},
   "outputs": [
    {
     "data": {
      "text/plain": [
       "(400, 640)"
      ]
     },
     "execution_count": 35,
     "metadata": {},
     "output_type": "execute_result"
    }
   ],
   "source": [
    "img.shape"
   ]
  },
  {
   "cell_type": "code",
   "execution_count": 49,
   "metadata": {},
   "outputs": [
    {
     "data": {
      "text/plain": [
       "(640,)"
      ]
     },
     "execution_count": 49,
     "metadata": {},
     "output_type": "execute_result"
    }
   ],
   "source": [
    "img[4].shape"
   ]
  },
  {
   "cell_type": "code",
   "execution_count": null,
   "metadata": {
    "collapsed": true
   },
   "outputs": [],
   "source": [
    "plt.imshow(digits.images[-5], cmap=plt.cm.gray_r, interpolation='nearest')"
   ]
  }
 ],
 "metadata": {
  "kernelspec": {
   "display_name": "Python [default]",
   "language": "python",
   "name": "python3"
  },
  "language_info": {
   "codemirror_mode": {
    "name": "ipython",
    "version": 3
   },
   "file_extension": ".py",
   "mimetype": "text/x-python",
   "name": "python",
   "nbconvert_exporter": "python",
   "pygments_lexer": "ipython3",
   "version": "3.6.3"
  }
 },
 "nbformat": 4,
 "nbformat_minor": 2
}

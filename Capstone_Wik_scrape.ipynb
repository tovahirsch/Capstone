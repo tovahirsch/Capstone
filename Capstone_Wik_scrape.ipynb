{
 "cells": [
  {
   "cell_type": "code",
   "execution_count": 23,
   "metadata": {
    "collapsed": true
   },
   "outputs": [],
   "source": [
    "import numpy as np\n",
    "import pandas as pd\n",
    "import requests \n",
    "from bs4 import BeautifulSoup "
   ]
  },
  {
   "cell_type": "code",
   "execution_count": 41,
   "metadata": {
    "collapsed": true
   },
   "outputs": [],
   "source": [
    "great_lakes_urls = ['https://en.wikipedia.org/wiki/Lake_Albert_(Africa)', 'https://en.wikipedia.org/w/index.php?title=Lake_Rat_bird&action=edit&redlink=1',\n",
    "      'https://en.wikipedia.org/wiki/Lake_Chad', 'https://en.wikipedia.org/wiki/Lake_Edward', 'https://en.wikipedia.org/wiki/Lake_Fianga',\n",
    "      'https://en.wikipedia.org/wiki/Lake_Kariba','https://en.wikipedia.org/wiki/Lake_Kivu',\n",
    "      'https://en.wikipedia.org/wiki/Lake_Tana', 'https://en.wikipedia.org/wiki/Lake_Mweru',\n",
    "      'https://en.wikipedia.org/wiki/Lake_Nasser','https://en.wikipedia.org/wiki/Lake_Nyasa',\n",
    "      'https://en.wikipedia.org/wiki/Lake_Tanganyika','https://en.wikipedia.org/wiki/Lake_Turkana',\n",
    "      'https://en.wikipedia.org/wiki/Lake_Victoria','https://en.wikipedia.org/wiki/Oguta_Lake']\n"
   ]
  },
  {
   "cell_type": "code",
   "execution_count": 39,
   "metadata": {},
   "outputs": [],
   "source": [
    "def get_coordinates(url):\n",
    "    coordinates = []\n",
    "    for u in url:\n",
    "        response = requests.get(u)\n",
    "\n",
    "        html = response.text\n",
    "        soup = BeautifulSoup(html, 'lxml')\n",
    "        if soup.find('span', {'class':'latitude'}) != None:\n",
    "            lat = soup.find('span', {'class':'latitude'}).text\n",
    "\n",
    "\n",
    "            long = soup.find('span', {'class':'longitude'}).text\n",
    "\n",
    "\n",
    "        else: \n",
    "            pass\n",
    "        coordinates.append((lat,long))\n",
    "    return coordinates"
   ]
  },
  {
   "cell_type": "code",
   "execution_count": 42,
   "metadata": {},
   "outputs": [
    {
     "data": {
      "text/plain": [
       "[('1°41′N', '30°55′E'),\n",
       " ('1°41′N', '30°55′E'),\n",
       " ('13°0′N', '14°0′E'),\n",
       " ('0°20′S', '29°36′E'),\n",
       " ('9°58′N', '15°12′E'),\n",
       " ('16°55′S', '28°00′E'),\n",
       " ('2°0′S', '29°0′E'),\n",
       " ('12°0′N', '37°15′E'),\n",
       " ('9°00′S', '28°43′E'),\n",
       " ('22°25′N', '31°45′E'),\n",
       " ('12°11′S', '34°22′E'),\n",
       " ('6°30′S', '29°50′E'),\n",
       " ('3°35′N', '36°7′E'),\n",
       " ('1°S', '33°E'),\n",
       " ('5°42′24″N', '6°47′33″E')]"
      ]
     },
     "execution_count": 42,
     "metadata": {},
     "output_type": "execute_result"
    }
   ],
   "source": [
    "coord = get_coordinates(great_lakes_urls)\n",
    "coord"
   ]
  },
  {
   "cell_type": "code",
   "execution_count": 47,
   "metadata": {},
   "outputs": [
    {
     "data": {
      "text/plain": [
       "[('20°48′S', '25°20′E'),\n",
       " ('20°30′S', '22°40′E'),\n",
       " ('20°30′S', '22°40′E'),\n",
       " ('6°11′34″N', '10°27′14″E')]"
      ]
     },
     "execution_count": 47,
     "metadata": {},
     "output_type": "execute_result"
    }
   ],
   "source": [
    "small_lakes_urls = ['https://en.wikipedia.org/wiki/Makadikadi_Basin', 'https://en.wikipedia.org/wiki/Lake_Ngami',\n",
    "                   'https://en.wikipedia.org/w/index.php?title=Lake_Bambili&action=edit&redlink=1', 'https://en.wikipedia.org/wiki/Lake_Bamendjing']\n",
    "small_lake_coord = get_coordinates(small_lakes_urls)\n",
    "small_lake_coord"
   ]
  },
  {
   "cell_type": "code",
   "execution_count": null,
   "metadata": {
    "collapsed": true
   },
   "outputs": [],
   "source": []
  }
 ],
 "metadata": {
  "kernelspec": {
   "display_name": "Python [default]",
   "language": "python",
   "name": "python3"
  },
  "language_info": {
   "codemirror_mode": {
    "name": "ipython",
    "version": 3
   },
   "file_extension": ".py",
   "mimetype": "text/x-python",
   "name": "python",
   "nbconvert_exporter": "python",
   "pygments_lexer": "ipython3",
   "version": "3.6.3"
  }
 },
 "nbformat": 4,
 "nbformat_minor": 2
}
